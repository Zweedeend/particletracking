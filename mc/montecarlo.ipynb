{
 "cells": [
  {
   "cell_type": "code",
   "execution_count": null,
   "metadata": {
    "collapsed": false
   },
   "outputs": [],
   "source": [
    "from __future__ import division, unicode_literals, print_function\n",
    "import matplotlib as mpl\n",
    "import matplotlib.pyplot as plt\n",
    "%matplotlib inline\n",
    "import numpy as np\n",
    "import os.path, os, sys, json\n",
    "plt.rcParams.update({'font.size': 16, 'figure.figsize': [8.0, 6.0]})\n",
    "workdir=%pwd"
   ]
  },
  {
   "cell_type": "markdown",
   "metadata": {},
   "source": [
    "### Download and build the Monte Carlo package _Faunus_\n",
    "\n",
    "To simulate the interaction of rigid fibrils with a charged, planar surface we use a custom Metropolis Monte Carlo (MC) program build within the [Faunus framework](http://github.com/mlund/faunus.git). The sections below will fetch the complete faunus project and compile the appropriate version of the program."
   ]
  },
  {
   "cell_type": "code",
   "execution_count": null,
   "metadata": {
    "collapsed": false
   },
   "outputs": [],
   "source": [
    "%%bash -s \"$workdir\"\n",
    "cd $1\n",
    "if [ ! -d \"faunus/\" ]; then\n",
    "  git clone https://github.com/mlund/faunus.git\n",
    "  cd faunus\n",
    "  git checkout fceb673dc51244eb37fc1f26a89dd910f0228b33\n",
    "  cp ../montecarlo.cpp src/examples/stripes.cpp\n",
    "else\n",
    "  cd faunus\n",
    "fi\n",
    "CXX=clang++ CC=clang cmake . -DCMAKE_BUILD_TYPE=Release &>/dev/null \n",
    "make example_stripes"
   ]
  },
  {
   "cell_type": "markdown",
   "metadata": {},
   "source": [
    "### Run Metropolis Monte Carlo Simulation\n",
    "\n",
    "This will generate an input file for the MC program, run it and print simulation details.\n",
    "Finally, the positions at the end of the simulation are visualized."
   ]
  },
  {
   "cell_type": "code",
   "execution_count": null,
   "metadata": {
    "collapsed": false
   },
   "outputs": [],
   "source": [
    "mcdir = workdir+'/faunus/src/examples'\n",
    "%cd $mcdir\n",
    "%rm -f state\n",
    "\n",
    "N=40          # number of particles\n",
    "diameter=53   # particle diameter\n",
    "L=600.        # side lengths of the quadratic simulation plane\n",
    "\n",
    "# generate input file for MC program\n",
    "js = {\n",
    "    \"atomlist\" : { \"MP\" : { \"r\":diameter*0.5, \"dp\":50 } },\n",
    "    \"moleculelist\" : {\n",
    "        \"myparticles\" : { \"atoms\":\"MP\", \"atomic\":True, \"Ninit\" : N, \"insdir\":\"1 1 0\" }\n",
    "    },\n",
    "    \"energy\" : {\n",
    "        \"nonbonded\" : {\n",
    "            \"repulsionr3\" : {\"prefactor\":0.5e6}\n",
    "        }\n",
    "    },\n",
    "    \"moves\" : {\n",
    "        \"atomtranslate\" : {\n",
    "          \"myparticles\" : { \"peratom\":True, \"dir\":\"1 1 0\" }\n",
    "        }\n",
    "    },\n",
    "    \"system\" : {\n",
    "        \"cuboid\" : { \"len\" : L }\n",
    "    }\n",
    "}\n",
    "with open('montecarlo.json', 'w+') as f:\n",
    "    f.write(json.dumps(js, indent=4))\n",
    "\n",
    "# if MC executable exists, run it and visualize final configuration\n",
    "exe='./stripes'\n",
    "if ( os.access( exe, os.X_OK )):\n",
    "    !./stripes\n",
    "    x,y = np.genfromtxt('confout.pqr', invalid_raise=False, usecols=(5,6), unpack=True, skip_footer=1)\n",
    "    x=x+L/2.0\n",
    "    y=y+L/2.0\n",
    "    plt.plot(x,y, 'ro', ms=diameter*0.5)\n",
    "    plt.xlabel(r'(you fill in all axis labels!)')"
   ]
  },
  {
   "cell_type": "markdown",
   "metadata": {},
   "source": [
    "### Calculate histogram for uniform distribution\n",
    "\n",
    "We now generate the distribution of particle distances for the case where these are completely uncorrelated, i.e. for an ideal 2D gas confined on a square with hard boundaries. This is done by randomly placing a large number of particles (the more, the higher accuracy) and build a histogram of distances."
   ]
  },
  {
   "cell_type": "code",
   "execution_count": null,
   "metadata": {
    "collapsed": false
   },
   "outputs": [],
   "source": [
    "from scipy.spatial import distance\n",
    "ux = np.random.random_integers(0, L, 5000)\n",
    "uy = np.random.random_integers(0, L, 5000)\n",
    "upos = np.array([ux, uy]).T\n",
    "hist = np.histogram(distance.pdist(upos), bins=150, normed=True)\n",
    "ur = hist[1][1:] / diameter\n",
    "uP = hist[0]"
   ]
  },
  {
   "cell_type": "markdown",
   "metadata": {},
   "source": [
    "### Load simulated histogram\n",
    "\n",
    "During simulation, the MC program samples the distribution of distances observed and saves it to the file `hist.dat`.\n",
    "This we here load, normalize and plot."
   ]
  },
  {
   "cell_type": "code",
   "execution_count": null,
   "metadata": {
    "collapsed": false
   },
   "outputs": [],
   "source": [
    "r,P = np.loadtxt('hist.dat', unpack=True)\n",
    "r = r/diameter\n",
    "P = P/P.cumsum()[-1] # normalize\n",
    "plt.plot(r, P)\n",
    "plt.plot(ur, uP)"
   ]
  },
  {
   "cell_type": "markdown",
   "metadata": {},
   "source": [
    "### Calculate final distribution function, $g(r)$\n",
    "\n",
    "In order to divide the two above distributions with each other, the data points in each set need to be aligned. This we easily ensure with Akima splines."
   ]
  },
  {
   "cell_type": "code",
   "execution_count": null,
   "metadata": {
    "collapsed": false
   },
   "outputs": [],
   "source": [
    "from scipy.interpolate import Akima1DInterpolator\n",
    "rvals = np.linspace(0,L/diameter,500)\n",
    "gofr = Akima1DInterpolator(r, P)(rvals) / Akima1DInterpolator(ur, uP)(rvals)\n",
    "plt.plot(rvals, gofr)\n",
    "#plt.xlim((0,L/2/diameter))"
   ]
  },
  {
   "cell_type": "markdown",
   "metadata": {},
   "source": [
    "### Exercises\n",
    "\n",
    "0. For all figures, put labels on the axis as well as units\n",
    "0. Explore the particle displacement parameter. How does this influence the mean square displacement and move acceptance? Does it influence the final result?\n",
    "0. How does temperature enter the simulation?\n",
    "0. Explain why $g(r)$ deviated from unity at large separations\n",
    "0. Simulate $g(r)$ for non-interacting particles. Although it in theory should be, the curve may not be unity for all distances. Why?\n",
    "0. List the differences between the particle simulator and the MC system"
   ]
  },
  {
   "cell_type": "code",
   "execution_count": null,
   "metadata": {
    "collapsed": true
   },
   "outputs": [],
   "source": []
  }
 ],
 "metadata": {
  "kernelspec": {
   "display_name": "Python 2",
   "language": "python",
   "name": "python2"
  },
  "language_info": {
   "codemirror_mode": {
    "name": "ipython",
    "version": 2
   },
   "file_extension": ".py",
   "mimetype": "text/x-python",
   "name": "python",
   "nbconvert_exporter": "python",
   "pygments_lexer": "ipython2",
   "version": "2.7.11"
  }
 },
 "nbformat": 4,
 "nbformat_minor": 0
}
